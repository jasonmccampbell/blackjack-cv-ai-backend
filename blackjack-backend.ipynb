{
 "cells": [
  {
   "cell_type": "code",
   "execution_count": null,
   "id": "0636f199-4953-4c3e-8474-fb5e8399ebbe",
   "metadata": {
    "tags": []
   },
   "outputs": [],
   "source": [
    "!python --version\n",
    "!pip install --upgrade pip\n",
    "!pip install pika"
   ]
  },
  {
   "cell_type": "code",
   "execution_count": null,
   "id": "bd4475df-44d5-4b0d-9e2f-f5e63d4a6bc9",
   "metadata": {
    "tags": []
   },
   "outputs": [],
   "source": [
    "!python3 blackjack-backend.py"
   ]
  },
  {
   "cell_type": "code",
   "execution_count": null,
   "id": "0a8307e3-196b-4bc7-91f5-065a4acef888",
   "metadata": {},
   "outputs": [],
   "source": []
  }
 ],
 "metadata": {
  "kernelspec": {
   "display_name": "Python 3 (ipykernel)",
   "language": "python",
   "name": "python3"
  },
  "language_info": {
   "codemirror_mode": {
    "name": "ipython",
    "version": 3
   },
   "file_extension": ".py",
   "mimetype": "text/x-python",
   "name": "python",
   "nbconvert_exporter": "python",
   "pygments_lexer": "ipython3",
   "version": "3.8.6"
  }
 },
 "nbformat": 4,
 "nbformat_minor": 5
}
